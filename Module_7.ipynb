{
  "nbformat": 4,
  "nbformat_minor": 0,
  "metadata": {
    "colab": {
      "provenance": []
    },
    "kernelspec": {
      "name": "python3",
      "display_name": "Python 3"
    },
    "language_info": {
      "name": "python"
    }
  },
  "cells": [
    {
      "cell_type": "markdown",
      "source": [
        "Ques1) What is the difference between interpreted and compiled languages?"
      ],
      "metadata": {
        "id": "tDe_NGGu7nQh"
      }
    },
    {
      "cell_type": "markdown",
      "source": [
        "- The primary difference between interpreted and compiled languages lies in how the source code is processed and executed by the computer. In compiled languages, the source code is translated into machine code by a compiler before it is run. This machine code, often in the form of an executable file, can then be executed directly by the computer's hardware, resulting in faster performance. Examples of compiled languages include C, C++, and Rust. In contrast, interpreted languages execute the source code line-by-line at runtime using an interpreter. This means there is no separate compilation step; the code is translated and run simultaneously. Interpreted languages, such as Python, JavaScript, and Ruby, tend to be more flexible and easier to debug, making them ideal for rapid development. However, they generally run slower than compiled languages because the interpretation process adds overhead during execution. Some modern languages, like Java and Python, combine both approaches by compiling code to an intermediate form (bytecode) that is then interpreted or further compiled at runtime."
      ],
      "metadata": {
        "id": "Jm2NloHJ77zf"
      }
    },
    {
      "cell_type": "markdown",
      "source": [
        "Ques2) What is exception handling in Python?"
      ],
      "metadata": {
        "id": "4RpmYJp979nS"
      }
    },
    {
      "cell_type": "markdown",
      "source": [
        "- Exception handling in Python is a mechanism that allows a program to deal with errors or unexpected situations gracefully without crashing. When an error occurs during the execution of a program, Python generates an exception. If this exception is not handled, the program will terminate and display an error message. To prevent this, Python provides a way to catch and handle exceptions using the try, except, else, and finally blocks. Code that might raise an exception is placed inside a try block, and the response to specific exceptions is written in one or more except blocks. The else block can run if no exceptions occur, and the finally block is used to execute code that should run no matter what, such as cleaning up resources. This approach helps in writing robust programs that can handle errors smoothly, improving user experience and program reliability."
      ],
      "metadata": {
        "id": "DIAeRtIX8A8t"
      }
    },
    {
      "cell_type": "markdown",
      "source": [
        "Ques3) What is the purpose of the finally block in exception handling?"
      ],
      "metadata": {
        "id": "kJiT0CEZ8Hyf"
      }
    },
    {
      "cell_type": "markdown",
      "source": [
        "- The finally block in exception handling is used to define a section of code that will always be executed, regardless of whether an exception occurred or not. Its main purpose is to perform cleanup actions that must be carried out under all circumstances, such as closing a file, releasing system resources, or disconnecting from a network. Whether an exception is raised in the try block and caught in the except block, or the try block completes successfully, the finally block ensures that the necessary final steps are executed. This makes programs more reliable and helps prevent resource leaks or other issues that might occur if important cleanup operations were skipped due to an error."
      ],
      "metadata": {
        "id": "0NcrZooR8Lm5"
      }
    },
    {
      "cell_type": "markdown",
      "source": [
        "Ques4) What is logging in Python?"
      ],
      "metadata": {
        "id": "yCrGtLST8Vnb"
      }
    },
    {
      "cell_type": "markdown",
      "source": [
        "- Logging in Python is a way to track events that happen when a program runs, making it easier to understand the program's flow and diagnose issues. Instead of using print statements for debugging, Python's built-in logging module provides a flexible framework for capturing various levels of information, such as debug messages, warnings, errors, and critical events. Developers can configure logging to output messages to different destinations like the console, files, or even remote servers, and they can control the level of detail that gets logged. This makes it easier to monitor programs, especially large or complex ones, and helps with debugging, error tracking, and maintaining a clear record of program behavior over time."
      ],
      "metadata": {
        "id": "c2c3Dj_x8ZFM"
      }
    },
    {
      "cell_type": "markdown",
      "source": [
        "Ques5) What is the significance of the __del__ method in Python?"
      ],
      "metadata": {
        "id": "Yuver7NM8gc1"
      }
    },
    {
      "cell_type": "markdown",
      "source": [
        "- The __del__ method in Python is a special method known as a destructor, which is called when an object is about to be destroyed or garbage collected. Its main purpose is to allow developers to define cleanup behavior, such as releasing external resources (like files or network connections) or performing other final tasks before the object is removed from memory. Although it can be useful, the use of __del__ should be approached with caution because its timing is not guaranteed—especially in complex programs or those involving circular references. Relying too heavily on __del__ can lead to unpredictable behavior, so it's often better to manage resources using context managers (with the with statement) for more reliable and controlled cleanup."
      ],
      "metadata": {
        "id": "k0QYVEkG8mYW"
      }
    },
    {
      "cell_type": "markdown",
      "source": [
        "Ques6) What is the difference between import and from ... import in Python?"
      ],
      "metadata": {
        "id": "SpyuOXAg8veU"
      }
    },
    {
      "cell_type": "markdown",
      "source": [
        "- In Python, both import and from ... import are used to include external modules or specific components of modules into a program, but they differ in how they are used and what they import. The import statement brings in the entire module, meaning you must use the module name as a prefix when accessing its functions or variables—for example, import math requires you to call math.sqrt(25). On the other hand, the from ... import statement allows you to import specific parts of a module directly, so you can use them without the module name prefix—for instance, from math import sqrt lets you simply use sqrt(25). While import keeps the namespace cleaner and avoids naming conflicts, from ... import can make code shorter and more readable when only a few functions or classes are needed from a module."
      ],
      "metadata": {
        "id": "gtYXdZTv80UV"
      }
    },
    {
      "cell_type": "markdown",
      "source": [
        "Ques7) How can you handle multiple exceptions in Python?"
      ],
      "metadata": {
        "id": "ixBE6nQO87Gz"
      }
    },
    {
      "cell_type": "markdown",
      "source": [
        "- In Python, multiple exceptions can be handled using a combination of multiple except blocks or a single except block that catches a tuple of exceptions. When using multiple except blocks, each one is tailored to handle a specific type of exception, allowing for customized error handling depending on the kind of issue that occurs. For example, you can catch a ValueError in one block and a ZeroDivisionError in another. Alternatively, you can group multiple exceptions in a single except block using a tuple, such as except (ValueError, TypeError):, which will handle any exception listed in the tuple in the same way. This approach helps make the program more robust and readable by clearly specifying how different errors should be managed without causing the program to crash.\n",
        "\n",
        "\n",
        "\n",
        "\n",
        "\n",
        "\n",
        "\n",
        "\n"
      ],
      "metadata": {
        "id": "bNA763NA8_Oa"
      }
    },
    {
      "cell_type": "markdown",
      "source": [
        "Ques8) What is the purpose of the with statement when handling files in Python?"
      ],
      "metadata": {
        "id": "igDu_3WU9Nka"
      }
    },
    {
      "cell_type": "markdown",
      "source": [
        "- The with statement in Python is used when handling files to ensure that resources are properly managed and released, even if an error occurs during file operations. It simplifies file handling by automatically opening and closing the file, eliminating the need to explicitly call file.close(). When a file is opened using the with statement, Python creates a context in which the file can be used, and once the block of code under the with statement is executed, the file is automatically closed. This not only makes the code cleaner and more readable but also helps prevent resource leaks and potential bugs caused by forgetting to close files manually. For example, with open('data.txt', 'r') as file: ensures that the file is closed properly once its contents are read."
      ],
      "metadata": {
        "id": "Ws570rXU9RbK"
      }
    },
    {
      "cell_type": "markdown",
      "source": [
        "Ques9) What is the difference between multithreading and multiprocessing?"
      ],
      "metadata": {
        "id": "bFWpGNyI9Xhz"
      }
    },
    {
      "cell_type": "markdown",
      "source": [
        "- The difference between multithreading and multiprocessing in Python lies in how they handle concurrent execution and utilize system resources. Multithreading involves running multiple threads within a single process, allowing tasks to share the same memory space. It is useful for I/O-bound tasks, such as file operations or network requests, where the program spends a lot of time waiting for external resources. However, due to Python's Global Interpreter Lock (GIL), only one thread can execute Python bytecode at a time, which limits its effectiveness for CPU-bound tasks. On the other hand, multiprocessing involves running multiple processes, each with its own Python interpreter and memory space. This allows true parallelism, making it ideal for CPU-bound tasks that require heavy computation. While multiprocessing can significantly improve performance on multi-core systems, it comes with higher memory usage and more overhead in managing separate processes. Both techniques are valuable tools for improving efficiency but are best suited for different types of problems."
      ],
      "metadata": {
        "id": "s7AVzxfN9bpP"
      }
    },
    {
      "cell_type": "markdown",
      "source": [
        "Ques10)  What are the advantages of using logging in a program?"
      ],
      "metadata": {
        "id": "x_JXAUrZ9iBd"
      }
    },
    {
      "cell_type": "markdown",
      "source": [
        "- Using logging in a program offers several important advantages that enhance development, debugging, and maintenance. One of the main benefits is that logging provides a systematic way to record events, errors, warnings, and other significant runtime information without disrupting the program’s flow, unlike print statements. Logs can be configured to include timestamps, severity levels, and custom messages, making it easier to track down issues and understand the behavior of the application over time. Additionally, logging allows developers to store messages in files or external systems, which is essential for analyzing problems that occur in production environments. With different logging levels (like DEBUG, INFO, WARNING, ERROR, and CRITICAL), developers can control the amount of detail recorded and filter relevant messages for specific scenarios. Overall, logging makes applications more transparent, reliable, and maintainable by providing clear insights into how they operate during both development and runtime."
      ],
      "metadata": {
        "id": "8K1ET4Kb9nQ1"
      }
    },
    {
      "cell_type": "markdown",
      "source": [
        "Ques11) What is memory management in Python?"
      ],
      "metadata": {
        "id": "O6gD7z299tzn"
      }
    },
    {
      "cell_type": "markdown",
      "source": [
        "- Memory management in Python refers to the process of efficiently allocating, using, and releasing memory during a program’s execution. Python handles memory management automatically through a built-in system that includes private heap space, reference counting, and a garbage collector. All Python objects and data structures are stored in this private heap, and memory allocation is managed internally by Python’s memory manager. When objects are created, Python keeps track of how many references point to each one; when an object’s reference count drops to zero, meaning it is no longer in use, the garbage collector automatically frees the memory. Python’s memory management system also includes features like dynamic typing and automatic resizing of data structures, making development easier and reducing the chances of memory leaks. This automation allows developers to focus more on building applications without worrying about manual memory allocation and deallocation, as is required in lower-level languages like C or C++."
      ],
      "metadata": {
        "id": "r5rC_l-g9y_Q"
      }
    },
    {
      "cell_type": "markdown",
      "source": [
        "Ques12) What are the basic steps involved in exception handling in Python?"
      ],
      "metadata": {
        "id": "M76ndsCV950O"
      }
    },
    {
      "cell_type": "markdown",
      "source": [
        "- Exception handling in Python involves a structured approach to detecting and managing errors during program execution to prevent crashes and handle issues gracefully. The basic steps begin with placing the potentially error-prone code inside a try block. If an exception occurs within this block, Python immediately stops executing the rest of the code in the try block and looks for a matching except block. The except block contains the code to handle specific exceptions, allowing the program to respond appropriately to the error. Optionally, an else block can follow, which runs only if no exception occurs in the try block. Finally, a finally block can be included to define code that should run regardless of whether an exception occurred or not—typically used for cleanup operations like closing files or releasing resources. This structured flow ensures that errors are handled predictably, helping maintain program stability and user experience."
      ],
      "metadata": {
        "id": "qNJOG3CE9_EA"
      }
    },
    {
      "cell_type": "markdown",
      "source": [
        "Ques13) Why is memory management important in Python?"
      ],
      "metadata": {
        "id": "ktOSGGgz-FtX"
      }
    },
    {
      "cell_type": "markdown",
      "source": [
        "- Memory management is important in Python because it ensures that programs use system resources efficiently, preventing issues like memory leaks, crashes, or slow performance. Since Python applications often involve dynamic memory usage—such as creating objects, storing data, or handling large datasets—proper memory management helps the program allocate and free memory as needed. Python simplifies this process by automatically managing memory through features like reference counting and garbage collection. However, developers still need to write mindful code to avoid problems like holding unnecessary references or creating circular dependencies. Efficient memory management not only improves the performance and reliability of applications but also allows them to scale better, especially in environments with limited resources or when handling large volumes of data. Ultimately, it plays a key role in building stable, responsive, and high-performing Python programs."
      ],
      "metadata": {
        "id": "Rh_b5XD7-L7D"
      }
    },
    {
      "cell_type": "markdown",
      "source": [
        "Ques14) What is the role of try and except in exception handling?"
      ],
      "metadata": {
        "id": "Z4An3TX5-RpQ"
      }
    },
    {
      "cell_type": "markdown",
      "source": [
        "- The try and except blocks play a central role in Python's exception handling mechanism by allowing programs to anticipate and respond to errors gracefully. Code that might raise an exception is placed inside a try block, which Python executes normally unless an error occurs. If an exception is raised during the execution of the try block, Python immediately stops running the rest of that block and looks for an except block that matches the type of the exception. The matching except block then runs, allowing the programmer to handle the error in a controlled way—such as displaying an error message, retrying an operation, or safely exiting the program. This structure helps prevent the program from crashing and ensures that unexpected issues can be managed in a user-friendly and efficient manner, making the application more robust and reliable."
      ],
      "metadata": {
        "id": "m0RL2Wba-U7z"
      }
    },
    {
      "cell_type": "markdown",
      "source": [
        "Ques15) How does Python's garbage collection system work?"
      ],
      "metadata": {
        "id": "t-fCOrUY-aSF"
      }
    },
    {
      "cell_type": "markdown",
      "source": [
        "- Python’s garbage collection system is an automatic memory management feature that reclaims memory used by objects that are no longer needed, helping to prevent memory leaks and optimize resource usage. At its core, Python uses reference counting, which keeps track of the number of references pointing to an object. When this count drops to zero—meaning no part of the program is using the object anymore—the memory occupied by that object is immediately released. However, reference counting alone cannot handle circular references, where two or more objects refer to each other but are no longer accessible from the main program. To handle such cases, Python includes a cyclic garbage collector, which periodically searches for groups of objects involved in circular references and deallocates them if they are unreachable. This combined system of reference counting and cyclic garbage collection ensures that memory is managed efficiently and automatically, reducing the chances of memory-related issues in Python programs."
      ],
      "metadata": {
        "id": "1vnLSMKr-es_"
      }
    },
    {
      "cell_type": "markdown",
      "source": [
        "Ques16) What is the purpose of the else block in exception handling?"
      ],
      "metadata": {
        "id": "jjJ1F7AI-llY"
      }
    },
    {
      "cell_type": "markdown",
      "source": [
        "- The purpose of the else block in exception handling in Python is to define a section of code that should be executed only when no exceptions occur in the try block. It allows programmers to separate error-handling logic from the code that should run when everything works as expected. While the try block contains code that might raise an exception, and the except block handles any errors that arise, the else block runs only if the try block completes successfully without throwing any exceptions. This makes the code more organized and readable by clearly distinguishing between normal operations and error responses. Using an else block is particularly useful when there is a need to perform certain actions only after confirming that no errors have occurred during the initial execution.\n",
        "\n",
        "\n",
        "\n",
        "\n",
        "\n",
        "\n",
        "\n",
        "\n"
      ],
      "metadata": {
        "id": "X0cyZT5f-pt1"
      }
    },
    {
      "cell_type": "markdown",
      "source": [
        "Ques17) What are the common logging levels in Python?"
      ],
      "metadata": {
        "id": "jkKQNyj_-wcV"
      }
    },
    {
      "cell_type": "markdown",
      "source": [
        "- Python's logging module provides several common logging levels that help categorize the importance and severity of events during program execution. These levels, in increasing order of severity, are DEBUG, INFO, WARNING, ERROR, and CRITICAL. The DEBUG level is used for detailed information useful mainly for diagnosing problems during development. INFO provides general messages that confirm the program is working as expected. WARNING indicates something unexpected happened or a potential problem, but the program can still continue running. ERROR reports more serious issues that prevent part of the program from functioning properly. Finally, CRITICAL is used for very severe errors that may cause the program to stop altogether. By assigning appropriate logging levels to messages, developers can filter and manage log output effectively, ensuring they see the right information based on the situation or the environment (e.g., development vs. production)."
      ],
      "metadata": {
        "id": "cbiKP9MF-0os"
      }
    },
    {
      "cell_type": "markdown",
      "source": [
        "Ques18)  What is the difference between os.fork() and multiprocessing in Python?"
      ],
      "metadata": {
        "id": "KTSuNlyL-54t"
      }
    },
    {
      "cell_type": "markdown",
      "source": [
        "- The difference between os.fork() and the multiprocessing module in Python lies in their usability, portability, and abstraction level. os.fork() is a low-level system call available only on Unix-based systems (like Linux and macOS) that creates a new child process by duplicating the current process. It gives direct control over process creation but requires manual handling of inter-process communication and can be error-prone for complex applications. In contrast, the multiprocessing module provides a high-level interface for creating and managing processes in a platform-independent way, working on both Unix and Windows systems. It abstracts many of the complexities involved in process management and includes built-in support for process pools, inter-process communication (like queues and pipes), and synchronization. While os.fork() is powerful for simple use cases in Unix environments, multiprocessing is generally preferred for writing portable, maintainable, and scalable parallel programs in Python."
      ],
      "metadata": {
        "id": "XRp04Jfx-_Rl"
      }
    },
    {
      "cell_type": "markdown",
      "source": [
        "Ques19) What is the importance of closing a file in Python?"
      ],
      "metadata": {
        "id": "ZNpe4DEE_FYh"
      }
    },
    {
      "cell_type": "markdown",
      "source": [
        "- Closing a file in Python is important because it ensures that all the data written to the file is properly saved and that system resources associated with the file are released. When a file is opened, Python reserves certain resources like memory and file descriptors to manage the file. If the file is not closed, these resources remain occupied, which can lead to performance issues or even prevent other programs from accessing the file. Additionally, in the case of writing to a file, closing it ensures that any data stored in the buffer is flushed and written to disk, preventing data loss or corruption. Using the close() method or the with statement (which automatically closes the file after the block is executed) helps maintain good programming practices, improves system stability, and prevents potential bugs related to open file handles."
      ],
      "metadata": {
        "id": "st6xfPbp_IeG"
      }
    },
    {
      "cell_type": "markdown",
      "source": [
        "Ques20) What is the difference between file.read() and file.readline() in Python?"
      ],
      "metadata": {
        "id": "AnOkYCz6_Of2"
      }
    },
    {
      "cell_type": "markdown",
      "source": [
        "- The difference between file.read() and file.readline() in Python lies in how much content they read from a file at a time. The file.read() method reads the entire contents of the file (or a specified number of characters if a size argument is given) into a single string. It’s useful when you want to process the whole file at once. On the other hand, file.readline() reads the file one line at a time, returning each line as a string including the newline character at the end. This method is more memory-efficient and practical when working with large files or when you want to process the file line-by-line. While file.read() is better suited for smaller files or when the entire content is needed, file.readline() offers more control and is safer for reading large files incrementally."
      ],
      "metadata": {
        "id": "nst1YhZy_SEo"
      }
    },
    {
      "cell_type": "markdown",
      "source": [
        "Ques21) What is the logging module in Python used for?"
      ],
      "metadata": {
        "id": "oqsi_Z2l_XW_"
      }
    },
    {
      "cell_type": "markdown",
      "source": [
        "- The logging module in Python is used to record messages that provide insight into the execution of a program, helping developers track events, debug issues, and monitor application behavior. Unlike simple print statements, the logging module offers a flexible and standardized way to log messages at different severity levels such as DEBUG, INFO, WARNING, ERROR, and CRITICAL. It allows messages to be directed not only to the console but also to files, network sockets, or other output streams, making it suitable for both development and production environments. Additionally, it supports formatting logs with timestamps, log levels, and custom messages, which helps in analyzing problems and maintaining a clear record of the application's runtime activity. By using the logging module, developers can build more reliable and maintainable applications with better visibility into how they operate."
      ],
      "metadata": {
        "id": "drJhvEg9_jS8"
      }
    },
    {
      "cell_type": "markdown",
      "source": [
        "Que22) What is the os module in Python used for in file handling?"
      ],
      "metadata": {
        "id": "RRBm1Qr2_o_j"
      }
    },
    {
      "cell_type": "markdown",
      "source": [
        "- The os module in Python is used in file handling to interact with the operating system and perform various file and directory operations. It provides a wide range of functions that allow developers to create, remove, rename, and manipulate files and directories directly from their Python programs. For example, using os.mkdir() or os.makedirs() one can create new directories, while os.remove() and os.rmdir() are used to delete files and directories. The os.path submodule helps in handling file paths, such as checking if a file exists with os.path.exists(), joining paths with os.path.join(), or getting the file size with os.path.getsize(). This module is essential for writing platform-independent scripts that need to work with the file system, making it a powerful tool for automating file-related tasks in Python."
      ],
      "metadata": {
        "id": "96WbES6i_slq"
      }
    },
    {
      "cell_type": "markdown",
      "source": [
        "Ques23) What are the challenges associated with memory management in Python?"
      ],
      "metadata": {
        "id": "oivPiG4B_yrB"
      }
    },
    {
      "cell_type": "markdown",
      "source": [
        "- Memory management in Python, while mostly automated, still comes with certain challenges that developers need to be aware of to ensure efficient and reliable programs. One common issue is memory leaks, which can occur when references to unused objects are unintentionally kept, preventing the garbage collector from freeing them. This often happens in long-running applications or when using global variables, caches, or complex data structures with circular references. Although Python’s garbage collector handles cyclic references, it may not immediately detect or clean up all unused memory, especially if custom objects override certain methods. Another challenge is high memory consumption, particularly with large datasets or inefficient data structures, which can slow down performance. Developers also need to be careful when working with multi-threaded or multi-process applications, where memory management becomes more complex. Understanding how Python allocates memory and using tools like memory profilers can help mitigate these challenges and lead to more optimized and stable applications."
      ],
      "metadata": {
        "id": "wEwM5NUY_270"
      }
    },
    {
      "cell_type": "markdown",
      "source": [
        "Ques24) How do you raise an exception manually in Python?"
      ],
      "metadata": {
        "id": "6lyxyD5C_-L5"
      }
    },
    {
      "cell_type": "markdown",
      "source": [
        "- In Python, you can raise an exception manually using the raise statement, which is used to trigger an error intentionally based on certain conditions in your code. This is helpful when you want to enforce specific rules or handle unexpected situations in a controlled way. To raise an exception, you write raise followed by the exception type and an optional error message. For example, raise ValueError(\"Invalid input\") will stop the program and display the message if a value doesn't meet expected criteria. You can raise built-in exceptions like TypeError, ZeroDivisionError, or even create your own custom exceptions by defining a class that inherits from the built-in Exception class. Manually raising exceptions allows developers to make their programs more robust and easier to debug by clearly identifying and handling error conditions."
      ],
      "metadata": {
        "id": "ZeRwJiZmACn3"
      }
    },
    {
      "cell_type": "markdown",
      "source": [
        "Ques25) Why is it important to use multithreading in certain applications?"
      ],
      "metadata": {
        "id": "OVY9syfWAMOr"
      }
    },
    {
      "cell_type": "markdown",
      "source": [
        "- Using multithreading is important in certain applications because it allows a program to perform multiple tasks concurrently, which can lead to more responsive and efficient execution, especially in I/O-bound scenarios. For instance, applications that involve downloading files, reading from databases, or interacting with users through a graphical interface can benefit from multithreading by continuing other operations while waiting for one task to complete. This improves the overall performance and user experience by avoiding program freezes or delays. Although Python’s Global Interpreter Lock (GIL) limits the execution of multiple threads at the same time for CPU-bound tasks, multithreading is still highly effective for tasks that spend a lot of time waiting for external resources. By enabling parallelism and better resource utilization, multithreading helps build faster and more scalable applications."
      ],
      "metadata": {
        "id": "SCTxMPCgAQrW"
      }
    },
    {
      "cell_type": "markdown",
      "source": [
        "### Practical Questions"
      ],
      "metadata": {
        "id": "UBGqYz2AAV7b"
      }
    },
    {
      "cell_type": "markdown",
      "source": [
        "Ques1) How can you open a file for writing in Python and write a string to it?"
      ],
      "metadata": {
        "id": "bHwnkSM3AaF-"
      }
    },
    {
      "cell_type": "code",
      "source": [
        "f = open(\"Filename.txt\",\"w\")\n",
        "f.write(\"This is my first line\")"
      ],
      "metadata": {
        "id": "3GItFSefAi-X"
      },
      "execution_count": null,
      "outputs": []
    },
    {
      "cell_type": "markdown",
      "source": [
        "Ques2) Write a Python program to read the contents of a file and print each line?"
      ],
      "metadata": {
        "id": "l1EM5l-MBfJS"
      }
    },
    {
      "cell_type": "code",
      "source": [
        "\n",
        "with open(\"Filename.txt\", \"r\") as file:\n",
        "\n",
        "    for line in file:\n",
        "        print(line.strip())"
      ],
      "metadata": {
        "id": "KPr4UsyjCF0x"
      },
      "execution_count": null,
      "outputs": []
    },
    {
      "cell_type": "markdown",
      "source": [
        "Ques3) How would you handle a case where the file doesn't exist while trying to open it for reading?"
      ],
      "metadata": {
        "id": "6a6KYHczCGnA"
      }
    },
    {
      "cell_type": "code",
      "source": [
        "try:\n",
        "  f = open(\"Filename.txt\",\"r\")\n",
        "except Exception as e:\n",
        "  print(\"There is an issue with the programme and the issue is :\",e)"
      ],
      "metadata": {
        "id": "yik2R-2CCLto"
      },
      "execution_count": null,
      "outputs": []
    },
    {
      "cell_type": "markdown",
      "source": [
        "Ques4) Write a Python script that reads from one file and writes its content to another file?"
      ],
      "metadata": {
        "id": "5xz9NlGpCzL-"
      }
    },
    {
      "cell_type": "code",
      "source": [
        "with open(\"source.txt\", \"r\") as source_file:\n",
        "\n",
        "    content = source_file.read()\n",
        "\n",
        "\n",
        "with open(\"destination.txt\", \"w\") as destination_file:\n",
        "\n",
        "    destination_file.write(content)\n",
        "\n",
        "print(\"File content copied successfully.\")"
      ],
      "metadata": {
        "id": "M6aRdsnNC5L3"
      },
      "execution_count": null,
      "outputs": []
    },
    {
      "cell_type": "markdown",
      "source": [
        "Ques5) How would you catch and handle division by zero error in Python?"
      ],
      "metadata": {
        "id": "B997O2zBDMNf"
      }
    },
    {
      "cell_type": "code",
      "source": [
        "def divide(a, b):\n",
        "    try:\n",
        "        result = a / b\n",
        "        print(f\"Result of {a} / {b} is {result}\")\n",
        "    except ZeroDivisionError:\n",
        "        print(\"Error: Cannot divide by zero.\")\n",
        "\n",
        "divide(10, 2)\n",
        "divide(5, 0)"
      ],
      "metadata": {
        "id": "RaVLBUUODRvd"
      },
      "execution_count": null,
      "outputs": []
    },
    {
      "cell_type": "markdown",
      "source": [
        "Ques6)  Write a Python program that logs an error message to a log file when a division by zero exception occurs?"
      ],
      "metadata": {
        "id": "JyrwJ60JFVbM"
      }
    },
    {
      "cell_type": "code",
      "source": [
        "import logging\n",
        "\n",
        "\n",
        "logging.basicConfig(filename='error_log.txt', level=logging.ERROR,\n",
        "                    format='%(asctime)s - %(levelname)s - %(message)s')\n",
        "\n",
        "def divide(a, b):\n",
        "    try:\n",
        "        result = a / b\n",
        "        print(f\"Result of {a} / {b} is {result}\")\n",
        "    except ZeroDivisionError as e:\n",
        "        logging.error(f\"Division by zero error when trying to divide {a} by {b}\")\n",
        "        print(\"Error: Cannot divide by zero. Check the log file for details.\")\n",
        "\n",
        "\n",
        "divide(10, 2)\n",
        "divide(5, 0)"
      ],
      "metadata": {
        "id": "rs4cCi8oFaNa"
      },
      "execution_count": null,
      "outputs": []
    },
    {
      "cell_type": "markdown",
      "source": [
        "Ques7)  How do you log information at different levels (INFO, ERROR, WARNING) in Python using the logging module?"
      ],
      "metadata": {
        "id": "MoW3Mi-YFsPR"
      }
    },
    {
      "cell_type": "code",
      "source": [
        "import logging\n",
        "\n",
        "\n",
        "logging.basicConfig(\n",
        "    filename='app.log',\n",
        "    level=logging.DEBUG,\n",
        "    format='%(asctime)s - %(levelname)s - %(message)s'\n",
        ")\n",
        "\n",
        "\n",
        "logging.debug(\"This is a DEBUG message (for detailed diagnostics).\")\n",
        "logging.info(\"This is an INFO message (general information).\")\n",
        "logging.warning(\"This is a WARNING message (something unexpected, but not an error).\")\n",
        "logging.error(\"This is an ERROR message (something failed).\")\n",
        "logging.critical(\"This is a CRITICAL message (serious error, system may be unusable).\")\n"
      ],
      "metadata": {
        "id": "ZugbYJCVFwh3"
      },
      "execution_count": null,
      "outputs": []
    },
    {
      "cell_type": "markdown",
      "source": [
        "Ques8) Write a program to handle a file opening error using exception handling?"
      ],
      "metadata": {
        "id": "hpy5g6pbF_Zu"
      }
    },
    {
      "cell_type": "code",
      "source": [
        "try:\n",
        "\n",
        "    with open(\"myfile.txt\", \"r\") as file:\n",
        "        content = file.read()\n",
        "        print(content)\n",
        "except FileNotFoundError:\n",
        "    print(\"Error: The file was not found.\")\n",
        "except IOError:\n",
        "    print(\"Error: An I/O error occurred while opening the file.\")\n"
      ],
      "metadata": {
        "id": "a_lZpS8mGNNo"
      },
      "execution_count": null,
      "outputs": []
    },
    {
      "cell_type": "markdown",
      "source": [
        "Ques9) How can you read a file line by line and store its content in a list in Python?"
      ],
      "metadata": {
        "id": "_SBRoKgnGU0F"
      }
    },
    {
      "cell_type": "code",
      "source": [
        "\n",
        "with open(\"example.txt\", \"r\") as file:\n",
        "    lines = file.readlines()\n",
        "\n",
        "\n",
        "lines = [line.strip() for line in lines]\n",
        "\n",
        "\n",
        "print(lines)\n"
      ],
      "metadata": {
        "id": "tYkbBYbDGaPT"
      },
      "execution_count": null,
      "outputs": []
    },
    {
      "cell_type": "markdown",
      "source": [
        "Ques10)  How can you append data to an existing file in Python?"
      ],
      "metadata": {
        "id": "GscIHxrbGjwG"
      }
    },
    {
      "cell_type": "code",
      "source": [
        "file = open(\"filename.txt\",\"a\")\n",
        "\n",
        "file.write(\"This is my second line\\n\")\n",
        "file.write(\"This is my third line\\n\")\n",
        "file.close()"
      ],
      "metadata": {
        "id": "cmJGhlTkGoEh"
      },
      "execution_count": null,
      "outputs": []
    },
    {
      "cell_type": "markdown",
      "source": [
        "Ques11) Write a Python program that uses a try-except block to handle an error when attempting to access a\n",
        "dictionary key that doesn't exist?"
      ],
      "metadata": {
        "id": "hm2UUEJ2IR_B"
      }
    },
    {
      "cell_type": "code",
      "source": [
        "\n",
        "my_dict = {\"a\": 1, \"b\": 2, \"c\": 3}\n",
        "\n",
        "try:\n",
        "\n",
        "    value = my_dict[\"d\"]\n",
        "except KeyError as e:\n",
        "    print(\"Error: The key does not exist in the dictionary.\", e)"
      ],
      "metadata": {
        "id": "gGhUNZaSJnA_"
      },
      "execution_count": null,
      "outputs": []
    },
    {
      "cell_type": "markdown",
      "source": [
        "Ques12) Write a program that demonstrates using multiple except blocks to handle different types of exceptions?"
      ],
      "metadata": {
        "id": "Hgg7yNR9Jo72"
      }
    },
    {
      "cell_type": "code",
      "source": [
        "def demo_exceptions():\n",
        "    try:\n",
        "        # Division by zero\n",
        "        a = 10\n",
        "        b = 0\n",
        "        result = a / b\n",
        "\n",
        "        # Dictionary key access\n",
        "        my_dict = {\"x\": 1, \"y\": 2}\n",
        "        print(my_dict[\"z\"])\n",
        "\n",
        "        # String to int conversion\n",
        "        num = int(\"hello\")\n",
        "\n",
        "    except ZeroDivisionError:\n",
        "        print(\"Caught a ZeroDivisionError: Cannot divide by zero.\")\n",
        "\n",
        "    except KeyError as e:\n",
        "        print(f\"Caught a KeyError: The key {e} was not found in the dictionary.\")\n",
        "\n",
        "    except ValueError as e:\n",
        "        print(f\"Caught a ValueError: {e}\")\n",
        "\n",
        "    except Exception as e:\n",
        "        print(f\"Caught a general exception: {e}\")\n",
        "\n",
        "# Run the function\n",
        "demo_exceptions()\n"
      ],
      "metadata": {
        "id": "AmbuhCsCJla-"
      },
      "execution_count": null,
      "outputs": []
    },
    {
      "cell_type": "markdown",
      "source": [
        "Ques13)  How would you check if a file exists before attempting to read it in Python?"
      ],
      "metadata": {
        "id": "8eGWC4OoJ7tl"
      }
    },
    {
      "cell_type": "code",
      "source": [
        "import os\n",
        "\n",
        "if os.path.exists(\"myfile.txt\"):\n",
        "    with open(\"myfile.txt\", \"r\") as file:\n",
        "        content = file.read()\n",
        "        print(content)\n",
        "else:\n",
        "    print(\"File does not exist.\")"
      ],
      "metadata": {
        "id": "E7bYHtGYJ_5Z"
      },
      "execution_count": null,
      "outputs": []
    },
    {
      "cell_type": "markdown",
      "source": [
        "Ques14) Write a program that uses the logging module to log both informational and error messages?"
      ],
      "metadata": {
        "id": "M9i5cn8HKJLo"
      }
    },
    {
      "cell_type": "code",
      "source": [
        "import logging\n",
        "\n",
        "\n",
        "logging.basicConfig(\n",
        "    filename='app.log',\n",
        "    level=logging.DEBUG,\n",
        "    format='%(asctime)s - %(levelname)s - %(message)s'\n",
        ")\n",
        "\n",
        "def divide(a, b):\n",
        "    logging.info(f\"Attempting to divide {a} by {b}\")\n",
        "    try:\n",
        "        result = a / b\n",
        "        logging.info(f\"Division successful: {a} / {b} = {result}\")\n",
        "        return result\n",
        "    except ZeroDivisionError:\n",
        "        logging.error(\"Error: Division by zero attempted\")\n",
        "        return None\n",
        "\n",
        "\n",
        "divide(10, 2)\n",
        "divide(5, 0)\n"
      ],
      "metadata": {
        "id": "qu9DklpMKNUB"
      },
      "execution_count": null,
      "outputs": []
    },
    {
      "cell_type": "markdown",
      "source": [
        "Ques15)  Write a Python program that prints the content of a file and handles the case when the file is empty?"
      ],
      "metadata": {
        "id": "W4SAg06MKbN9"
      }
    },
    {
      "cell_type": "code",
      "source": [
        "def read_and_print_file(filename):\n",
        "    try:\n",
        "        with open(filename, 'r') as file:\n",
        "            content = file.read()\n",
        "            if content.strip() == \"\":\n",
        "                print(\"The file is empty.\")\n",
        "            else:\n",
        "                print(\"File Content:\\n\")\n",
        "                print(content)\n",
        "    except FileNotFoundError:\n",
        "        print(\"Error: File not found.\")\n",
        "    except IOError:\n",
        "        print(\"Error: An I/O error occurred while reading the file.\")\n",
        "\n",
        "\n",
        "read_and_print_file(\"example.txt\")\n"
      ],
      "metadata": {
        "id": "BE9h9dYtKoR_"
      },
      "execution_count": null,
      "outputs": []
    },
    {
      "cell_type": "markdown",
      "source": [
        "Ques16) Demonstrate how to use memory profiling to check the memory usage of a small program?"
      ],
      "metadata": {
        "id": "Xp-bRfvfKo73"
      }
    },
    {
      "cell_type": "code",
      "source": [
        "pip install memory-profiler\n",
        "\n",
        "from memory_profiler import profile\n",
        "\n",
        "@profile\n",
        "def create_large_list():\n",
        "    big_list = [i * 2 for i in range(1000000)]  # Creates a large list\n",
        "    return sum(big_list)\n",
        "\n",
        "if __name__ == '__main__':\n",
        "    create_large_list()\n",
        "\n",
        "\n",
        "python -m memory_profiler memory_test.py\n"
      ],
      "metadata": {
        "id": "u-23U4dCKsrE"
      },
      "execution_count": null,
      "outputs": []
    },
    {
      "cell_type": "markdown",
      "source": [
        "Ques17)  Write a Python program to create and write a list of numbers to a file, one number per line?"
      ],
      "metadata": {
        "id": "w6s1p5vmLLGf"
      }
    },
    {
      "cell_type": "code",
      "source": [
        "\n",
        "numbers = [10, 20, 30, 40, 50]\n",
        "\n",
        "\n",
        "with open(\"numbers.txt\", \"w\") as file:\n",
        "    for num in numbers:\n",
        "        file.write(f\"{num}\\n\")\n",
        "\n",
        "print(\"Numbers written to 'numbers.txt' successfully.\")"
      ],
      "metadata": {
        "id": "nNiaQ6QHLP2B"
      },
      "execution_count": null,
      "outputs": []
    },
    {
      "cell_type": "markdown",
      "source": [
        "Ques18) How would you implement a basic logging setup that logs to a file with rotation after 1MB?"
      ],
      "metadata": {
        "id": "fgi_O3niLX6i"
      }
    },
    {
      "cell_type": "code",
      "source": [
        "import logging\n",
        "from logging.handlers import RotatingFileHandler\n",
        "\n",
        "log_handler = RotatingFileHandler(\n",
        "    \"app.log\",\n",
        "    maxBytes=1*1024*1024,\n",
        "    backupCount=3\n",
        ")\n",
        "\n",
        "# Set log format\n",
        "formatter = logging.Formatter('%(asctime)s - %(levelname)s - %(message)s')\n",
        "log_handler.setFormatter(formatter)\n",
        "\n",
        "# Set up the logger\n",
        "logger = logging.getLogger()\n",
        "logger.setLevel(logging.INFO)\n",
        "logger.addHandler(log_handler)\n",
        "\n",
        "# Example log entries\n",
        "for i in range(10000):\n",
        "    logger.info(f\"This is log message number {i}\")\n"
      ],
      "metadata": {
        "id": "McLecrBrLcse"
      },
      "execution_count": null,
      "outputs": []
    },
    {
      "cell_type": "markdown",
      "source": [
        "Ques19) Write a program that handles both IndexError and KeyError using a try-except block?"
      ],
      "metadata": {
        "id": "vIhgRY_1Lmmh"
      }
    },
    {
      "cell_type": "code",
      "source": [
        "def handle_errors():\n",
        "    my_list = [1, 2, 3]\n",
        "    my_dict = {\"a\": 10, \"b\": 20}\n",
        "\n",
        "    try:\n",
        "        # Accessing an invalid index\n",
        "        print(\"List item:\", my_list[5])\n",
        "\n",
        "        # Accessing a non-existent key\n",
        "        print(\"Dict value:\", my_dict[\"z\"])\n",
        "\n",
        "    except IndexError:\n",
        "        print(\"Caught an IndexError: List index is out of range.\")\n",
        "\n",
        "    except KeyError as e:\n",
        "        print(f\"Caught a KeyError: The key '{e}' does not exist in the dictionary.\")\n",
        "\n",
        "# Run the function\n",
        "handle_errors()\n"
      ],
      "metadata": {
        "id": "ImU7Ls7tLqic"
      },
      "execution_count": null,
      "outputs": []
    },
    {
      "cell_type": "markdown",
      "source": [
        "Ques20) How would you open a file and read its contents using a context manager in Python?"
      ],
      "metadata": {
        "id": "Kn1cVhZpLvQ7"
      }
    },
    {
      "cell_type": "code",
      "source": [
        "\n",
        "with open(\"example.txt\", \"r\") as file:\n",
        "    contents = file.read()\n",
        "    print(contents)\n"
      ],
      "metadata": {
        "id": "atN7AeOsLzzH"
      },
      "execution_count": null,
      "outputs": []
    },
    {
      "cell_type": "markdown",
      "source": [
        "Ques21) Write a Python program that reads a file and prints the number of occurrences of a specific word?"
      ],
      "metadata": {
        "id": "e0ng0OXjL5mC"
      }
    },
    {
      "cell_type": "code",
      "source": [
        "def count_word_occurrences(filename, target_word):\n",
        "    try:\n",
        "        with open(filename, 'r') as file:\n",
        "            content = file.read()\n",
        "            # Convert to lowercase for case-insensitive matching\n",
        "            word_list = content.lower().split()\n",
        "            count = word_list.count(target_word.lower())\n",
        "            print(f\"The word '{target_word}' occurs {count} time(s) in the file.\")\n",
        "    except FileNotFoundError:\n",
        "        print(\"Error: File not found.\")\n",
        "    except IOError:\n",
        "        print(\"Error: Unable to read the file.\")\n",
        "\n",
        "# Example usage\n",
        "count_word_occurrences(\"example.txt\", \"python\")\n"
      ],
      "metadata": {
        "id": "B6AaJ5BLL9Di"
      },
      "execution_count": null,
      "outputs": []
    },
    {
      "cell_type": "markdown",
      "source": [
        "Ques22) How can you check if a file is empty before attempting to read its contents?"
      ],
      "metadata": {
        "id": "iWjE2CMfMICS"
      }
    },
    {
      "cell_type": "code",
      "source": [
        "import os\n",
        "\n",
        "filename = \"example.txt\"\n",
        "\n",
        "if os.path.exists(filename):\n",
        "    if os.path.getsize(filename) == 0:\n",
        "        print(\"The file is empty.\")\n",
        "    else:\n",
        "        with open(filename, \"r\") as file:\n",
        "            content = file.read()\n",
        "            print(\"File content:\\n\", content)\n",
        "else:\n",
        "    print(\"File does not exist.\")\n"
      ],
      "metadata": {
        "id": "WZVR5EXzMNcc"
      },
      "execution_count": null,
      "outputs": []
    },
    {
      "cell_type": "markdown",
      "source": [
        "Ques23) Write a Python program that writes to a log file when an error occurs during file handling?"
      ],
      "metadata": {
        "id": "g6377EnoMRvS"
      }
    },
    {
      "cell_type": "code",
      "source": [
        "import logging\n",
        "\n",
        "\n",
        "logging.basicConfig(\n",
        "    filename='file_errors.log',\n",
        "    level=logging.ERROR,\n",
        "    format='%(asctime)s - %(levelname)s - %(message)s'\n",
        ")\n",
        "\n",
        "def read_file(filename):\n",
        "    try:\n",
        "        with open(filename, 'r') as file:\n",
        "            content = file.read()\n",
        "            print(\"File content:\\n\", content)\n",
        "    except FileNotFoundError as e:\n",
        "        logging.error(f\"File not found: {filename} - {e}\")\n",
        "        print(\"Error: The file does not exist.\")\n",
        "    except IOError as e:\n",
        "        logging.error(f\"IO error while reading the file: {filename} - {e}\")\n",
        "        print(\"Error: Problem occurred while reading the file.\")\n",
        "\n",
        "# Example usage\n",
        "read_file(\"nonexistent_file.txt\")\n"
      ],
      "metadata": {
        "id": "OIwdt7vaMVaY"
      },
      "execution_count": null,
      "outputs": []
    }
  ]
}